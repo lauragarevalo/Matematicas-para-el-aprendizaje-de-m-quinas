{
  "nbformat": 4,
  "nbformat_minor": 0,
  "metadata": {
    "colab": {
      "provenance": [],
      "include_colab_link": true
    },
    "kernelspec": {
      "name": "python3",
      "display_name": "Python 3"
    },
    "language_info": {
      "name": "python"
    }
  },
  "cells": [
    {
      "cell_type": "markdown",
      "metadata": {
        "id": "view-in-github",
        "colab_type": "text"
      },
      "source": [
        "<a href=\"https://colab.research.google.com/github/lauragarevalo/Matematicas-para-el-aprendizaje-de-m-quinas/blob/main/SVMBasic_Laura_Garc%C3%ADa.ipynb\" target=\"_parent\"><img src=\"https://colab.research.google.com/assets/colab-badge.svg\" alt=\"Open In Colab\"/></a>"
      ]
    },
    {
      "cell_type": "markdown",
      "source": [
        "# Code Assigment 1\n",
        "\n",
        "For this assignment you will use the following SVM implementation for classifying these datasets:\n",
        "https://archive.ics.uci.edu/ml/datasets/banknote+authentication\n",
        "\n",
        "\n",
        "https://archive.ics.uci.edu/ml/datasets/Occupancy+Detection+\n",
        "\n",
        "You should:\n",
        "\n",
        "1) Specify which Machine Learning problem are you solving.\n",
        "\n",
        "2) Provide a short summary of the features and the labels you are working on.\n",
        "\n",
        "3) Please answer the following questions: a) Are these datasets linearly separable? b) Are these datasets randomly chosen and c) The sample size is enough to guarantee generalization.\n",
        "\n",
        "4) Provide an explanation how and why the code is working. You can add comments and/or formal explanations into the notebook.\n",
        "\n",
        "5) Show some examples to illustrate that the method is working properly.\n",
        "\n",
        "6) Provide quantitative evidence for generalization using the provided dataset.\n"
      ],
      "metadata": {
        "id": "s-y8Kil2snGk"
      }
    },
    {
      "cell_type": "code",
      "execution_count": 2,
      "metadata": {
        "colab": {
          "base_uri": "https://localhost:8080/",
          "height": 321
        },
        "id": "5AOO-Ib6o_7U",
        "outputId": "e72ada40-a182-437d-9397-871e79c7964b"
      },
      "outputs": [
        {
          "output_type": "stream",
          "name": "stdout",
          "text": [
            "Optimized a step.\n",
            "Optimized a step.\n",
            "Optimized a step.\n"
          ]
        },
        {
          "output_type": "display_data",
          "data": {
            "text/plain": [
              "<Figure size 432x288 with 1 Axes>"
            ],
            "image/png": "[encoded data removed]"
          },
          "metadata": {}
        }
      ],
      "source": [
        "# https://pythonprogramming.net/svm-optimization-python-2-machine-learning-tutorial/?completed=/svm-optimization-python-machine-learning-tutorial/\n",
        "import matplotlib.pyplot as plt\n",
        "from matplotlib import style\n",
        "import numpy as np\n",
        "style.use('ggplot')\n",
        "\n",
        "class Support_Vector_Machine:\n",
        "    def __init__(self, visualization=True):\n",
        "        self.visualization = visualization\n",
        "        self.colors = {1:'r',-1:'b'}\n",
        "        if self.visualization:\n",
        "            self.fig = plt.figure()\n",
        "            self.ax = self.fig.add_subplot(1,1,1)\n",
        "    # train\n",
        "    def fit(self, data):\n",
        "        self.data = data\n",
        "        # { ||w||: [w,b] }\n",
        "        opt_dict = {}\n",
        "\n",
        "        transforms = [[1,1],\n",
        "                      [-1,1],\n",
        "                      [-1,-1],\n",
        "                      [1,-1]]\n",
        "\n",
        "        all_data = []\n",
        "        for yi in self.data:\n",
        "            for featureset in self.data[yi]:\n",
        "                for feature in featureset:\n",
        "                    all_data.append(feature)\n",
        "\n",
        "        self.max_feature_value = max(all_data)\n",
        "        self.min_feature_value = min(all_data)\n",
        "        all_data = None\n",
        "\n",
        "        # support vectors yi(xi.w+b) = 1\n",
        "        \n",
        "\n",
        "        step_sizes = [self.max_feature_value * 0.1,\n",
        "                      self.max_feature_value * 0.01,\n",
        "                      # point of expense:\n",
        "                      self.max_feature_value * 0.001,]\n",
        "\n",
        "        \n",
        "        \n",
        "        # extremely expensive\n",
        "        b_range_multiple = 5\n",
        "        # we dont need to take as small of steps\n",
        "        # with b as we do w\n",
        "        b_multiple = 5\n",
        "        latest_optimum = self.max_feature_value*10\n",
        "\n",
        "        for step in step_sizes:\n",
        "            w = np.array([latest_optimum,latest_optimum])\n",
        "            # we can do this because convex\n",
        "            optimized = False\n",
        "            while not optimized:\n",
        "                for b in np.arange(-1*(self.max_feature_value*b_range_multiple),\n",
        "                                   self.max_feature_value*b_range_multiple,\n",
        "                                   step*b_multiple):\n",
        "                    for transformation in transforms:\n",
        "                        w_t = w*transformation\n",
        "                        found_option = True\n",
        "                        # weakest link in the SVM fundamentally\n",
        "                        # SMO attempts to fix this a bit\n",
        "                        # yi(xi.w+b) >= 1\n",
        "                        # \n",
        "                        # #### add a break here later..\n",
        "                        for i in self.data:\n",
        "                            for xi in self.data[i]:\n",
        "                                yi=i\n",
        "                                # Verifiy constraints\n",
        "                                if not yi*(np.dot(w_t,xi)+b) >= 1:\n",
        "                                    found_option = False\n",
        "                                    \n",
        "                        if found_option:\n",
        "                            # Computes norm\n",
        "                            opt_dict[np.linalg.norm(w_t)] = [w_t,b]\n",
        "\n",
        "                if w[0] < 0:\n",
        "                    optimized = True\n",
        "                    print('Optimized a step.')\n",
        "                else:\n",
        "                    w = w - step\n",
        "\n",
        "            norms = sorted([n for n in opt_dict])\n",
        "            #||w|| : [w,b]\n",
        "            opt_choice = opt_dict[norms[0]]\n",
        "            self.w = opt_choice[0]\n",
        "            self.b = opt_choice[1]\n",
        "            latest_optimum = opt_choice[0][0]+step*2\n",
        "            \n",
        "\n",
        "    def predict(self,features):\n",
        "        # sign( x.w+b )\n",
        "        classification = np.sign(np.dot(np.array(features),self.w)+self.b)\n",
        "        return classification\n",
        "        \n",
        "        \n",
        "data_dict = {-1:np.array([[1,7],\n",
        "                          [2,8],\n",
        "                          [3,8],]),\n",
        "             \n",
        "             1:np.array([[5,1],\n",
        "                         [6,-1],\n",
        "                         [7,3],])}\n",
        "\n",
        "svm1 = Support_Vector_Machine()\n",
        "svm1.fit(data_dict)\n"
      ]
    },
    {
      "cell_type": "code",
      "source": [
        "svm1.predict([7,3.5])"
      ],
      "metadata": {
        "colab": {
          "base_uri": "https://localhost:8080/"
        },
        "id": "LmE-qAQOqwJ8",
        "outputId": "b6f15d7a-8b2c-45bb-d330-46092db1b25e"
      },
      "execution_count": 3,
      "outputs": [
        {
          "output_type": "execute_result",
          "data": {
            "text/plain": [
              "1.0"
            ]
          },
          "metadata": {},
          "execution_count": 3
        }
      ]
    },
    {
      "cell_type": "markdown",
      "source": [
        "\n",
        "\n",
        "---\n",
        "\n",
        "**Solución**"
      ],
      "metadata": {
        "id": "fE2uZfQf9EjW"
      }
    },
    {
      "cell_type": "markdown",
      "source": [
        "# Banknote Authentication Dataset\n",
        "\n",
        "\n"
      ],
      "metadata": {
        "id": "tUa-XIPFRqeo"
      }
    },
    {
      "cell_type": "markdown",
      "source": [
        "**1)** En el dataset de banknote authentication se busca resolver un problema de clasificación binario, cuyo propósito es determinar si un billete es real o es falso, a partir de un conjunto de imágenes y sus caraterísticas.\n",
        "\n",
        "**2)** Como se menciona en el repositorio, las features del dataset de banknote authentication son las siguientes:\n",
        "\n",
        "*   Variance of Wavelet Transformed image (continuous): Hace referencia a la variación de las intensidades de los pixeles de la imagen de la transformada wavelet.\n",
        "*   Skewness of Wavelet Transformed image (continuous): Mide la antisimetría de la distribución de los valores obtenidos al aplicar la transformada wavelet en la imagen (coeficientes de wavelet). Si el skewness es igual a cero, entonces es una distribución simétrica.\n",
        "*   Curtosis of Wavelet Transformed image (continuous): Busca determinar la forma de la distribución de coeficientes wavelet.\n",
        "*   Entropy of image (continuous): Mide la aleatoriedad de la frecuencia en el contenido de la imagen.\n",
        "\n",
        "Las etiquetas del dataset están dadas por billetes auténticos representados por 0, y billetes falsos representados por 1.\n",
        "\n",
        "**3) a)** Para ver que el dataset de banknote authentication es linealmente separable graficaremos en un espacio de dos dimensiones dos de las features del sistema. Para esto, emplearemos el código que se muestra a continuación."
      ],
      "metadata": {
        "id": "5Z0ldnNK-B6R"
      }
    },
    {
      "cell_type": "code",
      "source": [
        "# Emplearemos la librería Pandas ya que esta se especializa en el manejo y análisis de estructuras de datos\n",
        "# Esta librería nos permitirá cargar el dataset, como los datos están separados por comas podremos cargar el dataset como un archivo CVS (comma separated files)\n",
        "import pandas as pd\n",
        "import matplotlib.pyplot as plt\n",
        "# Ahora cargaremos el dataset en un Dataframe que nos permitirá destacar las relaciones entre las variables de los datos.\n",
        "data = pd.read_csv(\"https://archive.ics.uci.edu/ml/machine-learning-databases/00267/data_banknote_authentication.txt\", header=None)\n",
        "# Luego asignaremos los nombres de cada columna según el feature correspondiente, donde la última columna corresponderá a las etiquetas.\n",
        "data.columns = [\"Variance\", \"Skewness\", \"Curtosis\", \"Entropy\", \"Class\"]\n",
        "# Finalmente graficaremos los datos con dos de las características de estos.\n",
        "fig, ax = plt.subplots()\n",
        "# Graficaremos un diagrama de dispersión, mostrando la relación entre las variables Variance y Skewness.\n",
        "scatter = ax.scatter(data[\"Variance\"], data[\"Skewness\"], c=data[\"Class\"], cmap='winter')\n",
        "ax.set_xlabel(\"Variance of wavelet transformed image\")\n",
        "ax.set_ylabel(\"Skewnessof wavelet transformed image\")\n",
        "legend = ax.legend(*scatter.legend_elements(), title=\"Etiqueta\")\n",
        "ax.add_artist(legend)\n",
        "plt.show()"
      ],
      "metadata": {
        "colab": {
          "base_uri": "https://localhost:8080/",
          "height": 282
        },
        "id": "61-xOkavzolF",
        "outputId": "491c5a00-65fe-4c8a-ad38-c52b61944b8b"
      },
      "execution_count": 4,
      "outputs": [
        {
          "output_type": "display_data",
          "data": {
            "text/plain": [
              "<Figure size 432x288 with 1 Axes>"
            ],
            "image/png": "[encoded data removed]"
          },
          "metadata": {}
        }
      ]
    },
    {
      "cell_type": "markdown",
      "source": [
        "Como podemos observar en la gráfica algunos de los datos se sobreponen, por lo cual no podríamos afirmar que el dataset es linealmente separable de forma estricta, sin embargo, hay unas regiones que sí pueden ser linealmente separables, por lo tanto podríamos usar modelos lineales con una precisión aceptable. Sin embargo, es posible implementar otros métodos para determinar si el dataset es linealmente separable, en este caso implementaremos el algoritmo de Perceptron debido a que este converge únicamente para datasets linealmente separables, así, si el algoritmo converge para el dataset de banknote authentication esto implicaría que este es linealmente separable."
      ],
      "metadata": {
        "id": "3NqCnRt86nUd"
      }
    },
    {
      "cell_type": "code",
      "source": [
        "#Primero descargaremos el dataset del link y lo guardaremos como un arcivo CSV\n",
        "import numpy as np\n",
        "import urllib.request\n",
        "url='https://archive.ics.uci.edu/ml/machine-learning-databases/00267/data_banknote_authentication.txt'\n",
        "#Descargamos los contenidos del dataset\n",
        "response = urllib.request.urlopen(url)\n",
        "#Cargamos los datos de la línea anterior en un arreglo numpy\n",
        "data = np.loadtxt(response, delimiter=',')\n",
        "#Guardamos el arreglo anterior como un archivo CSV\n",
        "np.savetxt('banknote_authentication.csv', data, delimiter=',')"
      ],
      "metadata": {
        "id": "XJkXWtNgToHE"
      },
      "execution_count": 5,
      "outputs": []
    },
    {
      "cell_type": "code",
      "source": [
        "#Implementación de Perceptrón\n",
        "import numpy as np\n",
        "from sklearn.model_selection import train_test_split\n",
        "\n",
        "\n",
        "\n",
        "#Definimos una función que nos devuelva 1 si la entrada es >=0 o -1 si la entrada es <0\n",
        "def step_func(z):\n",
        "  return np.where(z>=0, 1, -1)\n",
        "\n",
        "#Implementamos el algoritmo de Perceptron\n",
        "def perceptron(X, y, lr, epochs):\n",
        "  m, n = X.shape\n",
        "  # X : inputs\n",
        "  # y : labels\n",
        "  # lr : learning rate (controla el tamaño de cada paso en las iteraciones)\n",
        "  # epochs : número de iteraciones\n",
        "  # m : número de ejemplos de entrenamiento\n",
        "  # n : número de features\n",
        "  \n",
        "  #El algoritmo de Perceptron busca aprender un conjunto de \"pesos\" que pueden ser usados para hacer predicciones sobre datos nuevos.\n",
        "  # Almacenaremos estos \"pesos\" en el siguiente vector theta\n",
        "  theta = np.zeros((n+1,1))\n",
        "  #Creamos una lista vacía para almacenar la cantidad de ejemplos que fueron mal clasificados en cada iteración\n",
        "  n_miss_list =[]\n",
        "  #Entrenamiento\n",
        "  for epoch in range (epochs):\n",
        "    #Creamos una variable para almacenar los mal clasificados\n",
        "    n_miss = 0\n",
        "    #loop para cada ejemplo\n",
        "    for idx, x_i in enumerate(X):\n",
        "      #Usaremos un término bias, este es una constante que se añade a la suma de las entradas por peso en un modelo lineal\n",
        "      #Este término permite al modelo variar los valores arriba o abajo, lo cual puede ser útil si los tatos tienen algún desbalance.\n",
        "      #Insertamos 1 como bias, x0=1.\n",
        "      x_i = np.insert(x_i, 0, 1).reshape(-1,1)\n",
        "      \n",
        "      #Calculamos la predicción\n",
        "      y_hat = step_func(np.dot(x_i.T, theta))\n",
        "      \n",
        "      #Si el ejemplo es mal clasificado actualizamos\n",
        "      if (np.squeeze(y_hat) - y[idx]) != 0:\n",
        "        theta += lr*((y[idx] - y_hat)*x_i)\n",
        "        n_miss += 1\n",
        "    \n",
        "    n_miss_list.append(n_miss)\n",
        "  return theta, n_miss_list\n",
        "\n",
        "#Cargamos los datos del dataset \n",
        "data = np.genfromtxt('banknote_authentication.csv', delimiter=',')\n",
        "#Separamos features y labels\n",
        "\n",
        "X = data[:,:-1]\n",
        "y = data[:,-1]\n",
        "\n",
        "#Dividimos el dataset entre datos de entrenamiento (80%) y datos de prueba (20%)\n",
        "X_train, X_test, y_train, y_test = train_test_split(X, y, test_size= 0.2, random_state=0) \n",
        "\n",
        "#Definimos el learning rate y el número de iteraciones\n",
        "lr=0.1\n",
        "epochs=100\n",
        "\n",
        "#Entrenamos el algoritmo de Perceptron con los datos de entrenamiento\n",
        "theta, n_miss_list = perceptron(X_train, y_train, lr, epochs)\n",
        "\n",
        "#Usamos los parámetros aprendidos para hacer predicciones sobre los datos de prueba\n",
        "X_test_bias = np.insert(X_test, 0, 1, axis=1)\n",
        "y_pred = np.sign(np.dot(X_test_bias, theta))\n",
        "\n",
        "#Evaluamos la precisión de Perceptron sobre los datos de prueba\n",
        "accuracy = np.mean(y_pred == y_test)\n",
        "print(\"Accuracy:\", accuracy)"
      ],
      "metadata": {
        "colab": {
          "base_uri": "https://localhost:8080/"
        },
        "id": "tHirKWbozJOK",
        "outputId": "d9ebb741-bc7a-4430-d510-52c312493c36"
      },
      "execution_count": 6,
      "outputs": [
        {
          "output_type": "stream",
          "name": "stdout",
          "text": [
            "Accuracy: 0.3307900826446281\n"
          ]
        }
      ]
    },
    {
      "cell_type": "markdown",
      "source": [
        "Observamos que la precisión del método es de solo el 33%, lo que implica que este modelo no se ejecuta muy bien para este dataset. A continuación implementaremos Perceptron de otra manera. "
      ],
      "metadata": {
        "id": "Y1_C-WxNuA_k"
      }
    },
    {
      "cell_type": "code",
      "source": [
        "import numpy as np\n",
        "\n",
        "class myPerceptron:\n",
        "    \n",
        "    def __init__(self, learning_rate, epochs):\n",
        "        self.weights = None\n",
        "        self.bias = None\n",
        "        self.learning_rate = learning_rate\n",
        "        self.epochs = epochs\n",
        "        \n",
        "    # Función de activación\n",
        "    def activation(self, z):\n",
        "        return np.heaviside(z, 0) #\n",
        "    \n",
        "    def fit(self, X, y):\n",
        "        n_features = X.shape[1]\n",
        "        \n",
        "        # Inicializamos pesos y bias\n",
        "        self.weights = np.zeros((n_features))\n",
        "        self.bias = 0\n",
        "        \n",
        "        # Iteramos hasta el npumero de epochs\n",
        "        for epoch in range(self.epochs):\n",
        "            \n",
        "            for i in range(len(X)):\n",
        "                z = np.dot(X, self.weights) + self.bias # Encontramos el producto punto y añadimos el bias\n",
        "                y_pred = self.activation(z) # Pasamos por la función de activación\n",
        "                \n",
        "                #Actualizamos pesos y bias\n",
        "                self.weights = self.weights + self.learning_rate * (y[i] - y_pred[i]) * X[i]\n",
        "                self.bias = self.bias + self.learning_rate * (y[i] - y_pred[i])\n",
        "                \n",
        "        return self.weights, self.bias\n",
        "    \n",
        "    def predict(self, X):\n",
        "        z = np.dot(X, self.weights) + self.bias\n",
        "        return self.activation(z)\n"
      ],
      "metadata": {
        "id": "y6SsuESRuuJC"
      },
      "execution_count": 7,
      "outputs": []
    },
    {
      "cell_type": "code",
      "source": [
        "import numpy as np\n",
        "from sklearn.model_selection import train_test_split\n",
        "from sklearn.metrics import accuracy_score\n",
        "\n",
        "# Cargamos el dataset\n",
        "url = 'https://archive.ics.uci.edu/ml/machine-learning-databases/00267/data_banknote_authentication.txt'\n",
        "data = np.genfromtxt(url, delimiter=\",\", dtype=np.float32)\n",
        "\n",
        "# Separamos features (X) y labels (y)\n",
        "X = data[:,:-1]\n",
        "y = data[:,-1]\n",
        "\n",
        "# Dividimos el dataset en training y testing \n",
        "X_train, X_test, y_train, y_test = train_test_split(X, y, test_size=0.2, random_state=0)\n",
        "\n",
        "# Creamos un objeto de perceptron con una learning rate de 0.1 y 100 epochs\n",
        "perceptron = myPerceptron(learning_rate=0.1, epochs=100)\n",
        "\n",
        "# Entrenamos el perceptron sobre los datos de entrenamiento\n",
        "perceptron.fit(X_train, y_train)\n",
        "\n",
        "# Hacemos predicciones sobre los datos de prueba\n",
        "y_pred = perceptron.predict(X_test)\n",
        "\n",
        "# Evaluamos la efectividad del perceptron sobre los datos de prueba\n",
        "accuracy = accuracy_score(y_test, y_pred)\n",
        "print(\"Accuracy:\", accuracy)"
      ],
      "metadata": {
        "colab": {
          "base_uri": "https://localhost:8080/"
        },
        "id": "y299rIFUu0dc",
        "outputId": "7343eacb-7c22-443a-c8d3-7d1a87ed41ca"
      },
      "execution_count": 8,
      "outputs": [
        {
          "output_type": "stream",
          "name": "stdout",
          "text": [
            "Accuracy: 0.9927272727272727\n"
          ]
        }
      ]
    },
    {
      "cell_type": "markdown",
      "source": [
        "Se observa que este modelo funciona de mejor manera para este dataset, dándonos una precisión dek 99.3%, lo que indica que el dataset es linealmente separable. Adicionalmente, a partir de la librería 'sklearn' es posible importar el algoritmo de Perceptron, como se muestra a continuación."
      ],
      "metadata": {
        "id": "x7yEPDm91OM3"
      }
    },
    {
      "cell_type": "code",
      "source": [
        "from sklearn.linear_model import Perceptron\n",
        "from sklearn.model_selection import train_test_split\n",
        "\n",
        "def perceptron_test(X_train, y_train):\n",
        "  clf = Perceptron()\n",
        "\n",
        "  # Tomamos los datos de entrenamiento para emplearlos en el entrenamiento del modelo\n",
        "  clf.fit(X_train, y_train)\n",
        "  score = clf.score(X_train, y_train)\n",
        "  print(score)"
      ],
      "metadata": {
        "id": "VlcjWPSnK2Wn"
      },
      "execution_count": 9,
      "outputs": []
    },
    {
      "cell_type": "code",
      "source": [
        "# Test del percetron \n",
        "perceptron_test(X_test,y_test)"
      ],
      "metadata": {
        "colab": {
          "base_uri": "https://localhost:8080/"
        },
        "id": "HqOFGcwQBGDn",
        "outputId": "689e6e4b-3aed-4e98-b965-7c68a5cd60d7"
      },
      "execution_count": 10,
      "outputs": [
        {
          "output_type": "stream",
          "name": "stdout",
          "text": [
            "0.9781818181818182\n"
          ]
        }
      ]
    },
    {
      "cell_type": "markdown",
      "source": [
        "Esto nos indica que el dataset es linealmente separable."
      ],
      "metadata": {
        "id": "emJKLeZGCmJs"
      }
    },
    {
      "cell_type": "markdown",
      "source": [
        "**3) b)** A partir de la información suministrada por la documentación del dataset no es posible determinar si los datos han sido escogidos de manera aleatoria.\n",
        "\n",
        "**c)** La cantidad de datos necesarios para determinar si un conjunto de datos es suficiente depende directamente de la complejidad del problema, en este caso, teniendo en cuenta que al entrenar el dataset obtenemos niveles altos de precisión podríamos decir que se cuenta con un número adecuado de muestras."
      ],
      "metadata": {
        "id": "P-Tuhi8YDWj6"
      }
    },
    {
      "cell_type": "markdown",
      "source": [
        "**4)** Debido a que el código dado no funciona adecuadamente para sistemas multidimensionales haremos una implementación de SVM distinta para usarla posteriormente en cada uno de los datasets, a continuación se evidencia el código junto con su explicación en comentarios. "
      ],
      "metadata": {
        "id": "l3m_D1Up-PM1"
      }
    },
    {
      "cell_type": "code",
      "source": [
        "import numpy as np\n",
        "from sklearn.model_selection import train_test_split\n",
        "from sklearn.preprocessing import StandardScaler\n",
        "\n",
        "class SVM:\n",
        "\n",
        "    def __init__(self, C = 1.0):\n",
        "        # C = término de error\n",
        "        self.C = C\n",
        "        self.w = 0\n",
        "        self.b = 0\n",
        "\n",
        "    # Hinge Loss Function\n",
        "    def hingeloss(self, w, b, x, y):\n",
        "        # Término de regularización\n",
        "        reg = 0.5 * (w * w)\n",
        "\n",
        "        for i in range(x.shape[0]):\n",
        "            # Término de optimización\n",
        "            opt_term = y[i] * ((np.dot(w, x[i])) + b)\n",
        "\n",
        "            # Calculamos la pérdida de la pérdida\n",
        "            loss = reg + self.C * max(0, 1-opt_term)\n",
        "        return loss[0][0]\n",
        "\n",
        "    def fit(self, X, Y, batch_size=100, learning_rate=0.001, epochs=1000):\n",
        "        # Número de features en X\n",
        "        number_of_features = X.shape[1]\n",
        "\n",
        "        # Número de samples en X\n",
        "        number_of_samples = X.shape[0]\n",
        "\n",
        "        c = self.C\n",
        "\n",
        "        # Creamos ids desde 0 a number_of_samples - 1\n",
        "        ids = np.arange(number_of_samples)\n",
        "\n",
        "        # Mezclamos las muestras aleatoriamente\n",
        "        np.random.shuffle(ids)\n",
        "\n",
        "        # creamos arreglo de ceros\n",
        "        w = np.zeros((1, number_of_features))\n",
        "        b = 0\n",
        "        losses = []\n",
        "\n",
        "        # Logica Gradiente en Descenso\n",
        "        for i in range(epochs):\n",
        "            # Calculamos Hinge Loss\n",
        "            l = self.hingeloss(w, b, X, Y)\n",
        "\n",
        "            # Juntamos todas las pérdidas\n",
        "            losses.append(l)\n",
        "            \n",
        "            # Empezamos desde 0 hasta el número de muestras con batch_size como el intervalo\n",
        "            for batch_initial in range(0, number_of_samples, batch_size):\n",
        "                gradw = 0\n",
        "                gradb = 0\n",
        "\n",
        "                for j in range(batch_initial, batch_initial+ batch_size):\n",
        "                    if j < number_of_samples:\n",
        "                        x = ids[j]\n",
        "                        ti = Y[x] * (np.dot(w, X[x].T) + b)\n",
        "\n",
        "                        if ti > 1:\n",
        "                            gradw += 0\n",
        "                            gradb += 0\n",
        "                        else:\n",
        "                            # Calculamos los gradientes\n",
        "\n",
        "                            #w.r.t w \n",
        "                            gradw += c * Y[x] * X[x]\n",
        "                            # w.r.t b\n",
        "                            gradb += c * Y[x]\n",
        "\n",
        "                # Actualizamos pesos y bias\n",
        "                w = w - learning_rate * w + learning_rate * gradw\n",
        "                b = b + learning_rate * gradb\n",
        "        \n",
        "        self.w = w\n",
        "        self.b = b\n",
        "\n",
        "        return self.w, self.b, losses\n",
        "\n",
        "    def predict(self, X):\n",
        "        \n",
        "        prediction = np.dot(X, self.w[0]) + self.b #\n",
        "        return np.sign(prediction)\n",
        "  \n"
      ],
      "metadata": {
        "id": "ebta6xnCLCe9"
      },
      "execution_count": 11,
      "outputs": []
    },
    {
      "cell_type": "markdown",
      "source": [
        "**5)** A continuación aplicaremos el código anterior al dataset que estamos trabajando."
      ],
      "metadata": {
        "id": "V3GAyNXeKET4"
      }
    },
    {
      "cell_type": "code",
      "source": [
        "# Cargamos el dataset\n",
        "data_banknote = pd.read_csv('https://archive.ics.uci.edu/ml/machine-learning-databases/00267/data_banknote_authentication.txt', header=None)\n",
        "#Nombramos las columnas del mismo\n",
        "data_banknote.columns = [\"variance\", \"skewness\", \"curtosis\", \"entropy\", \"class\"]\n",
        "data_banknote[\"class\"] = data_banknote[\"class\"].replace([0],-1)\n",
        "# Separamos las features de las etiquetas \n",
        "X_bdata = data_banknote[[\"variance\", \"skewness\", \"curtosis\", \"entropy\"]]\n",
        "#Etiquetas\n",
        "y_bdata = data_banknote[\"class\"]\n",
        "\n",
        "bSVM = SVM()\n",
        "#Separamos los datos entre datos de entrenamiento y datos de prueba\n",
        "X_train, X_test,y_train, y_test = train_test_split(X_bdata, y_bdata,\n",
        "                                   random_state=104, \n",
        "                                   test_size=0.2, \n",
        "                                   shuffle=True)\n",
        "#Entrenamos la SVM\n",
        "bSVM.fit(X_train.to_numpy(), y_train.to_numpy()); \n",
        "\n",
        "#Ahora evaluamos el rendimiento\n",
        "predicted_data = bSVM.predict(X_test.to_numpy())\n",
        "\n",
        "errors = len([i for i in (predicted_data - y_test) if i != 0]) \n",
        "\n",
        "score = (len(y_test) - errors)/len(y_test)\n",
        "print(score)\n"
      ],
      "metadata": {
        "id": "o8zY6ODOhHCy",
        "colab": {
          "base_uri": "https://localhost:8080/"
        },
        "outputId": "4f9f6758-d5c5-41c9-b4a7-bbb3e5ce37df"
      },
      "execution_count": 19,
      "outputs": [
        {
          "output_type": "stream",
          "name": "stdout",
          "text": [
            "0.9890909090909091\n"
          ]
        }
      ]
    },
    {
      "cell_type": "markdown",
      "source": [
        "Como se observa, la implementación del SVM nos brinda una precisión del 98.9% lo cual nos indica que el método está funcionando apropiadamente.\n",
        " \n",
        "**6)** Para entrenar la SVM anteriormente dividimos el dataset en dos subconjuntos de datos, uno de training (80%) y otro de testing (20%), sin embargo, para garantizar generalización es necesario tener tres conjuntos de datos, de entrenamiento, de validación y de prueba. No obstante, debido a que los datasets con los cuales estamos trabajando tienen un conjunto de datos reducido, realizaremos crossvalidation para observar la generalización del modelo. Crossvalidation es una técnica usada en Machine Learning para evaluar el rendimiento de un modelo cuando se tiene un número limitado de datos. La idea es dividir el dataset en múltiples subconjuntos, usar algunos de estos para entrenar el modelo y el resto para probarlo. Este proceso se repite varias veces tal que cada subconjunto llegue a ser de testing al menos una vez, luego se saca el promedio de los resultados para obtener una mejor estimación del comportamiento del modelo."
      ],
      "metadata": {
        "id": "OS8SNhzjKgBX"
      }
    },
    {
      "cell_type": "code",
      "source": [
        "#Creamos una lista vacía 'perf' para guardar el rendimiento de cada iteración\n",
        "perf = []\n",
        "for _ in range(0,10):\n",
        "  # Creamos la SVM \n",
        "  bank_SVM = SVM()\n",
        "  #Partimos los datos usando sklearn \n",
        "  X_train, X_test,y_train, y_test = train_test_split(X_bdata, y_bdata,\n",
        "                                    random_state=101, \n",
        "                                    test_size=0.25, \n",
        "                                    shuffle=True)\n",
        "  #Entrenamos la SVM\n",
        "  bank_SVM.fit(X_train.to_numpy(), y_train.to_numpy()); \n",
        "\n",
        "  #Ahora evaluamos el rendimiento\n",
        "  predicted_data = bank_SVM.predict(X_test.to_numpy())\n",
        "\n",
        "  errors = len([i for i in (predicted_data - y_test) if i != 0]) \n",
        "\n",
        "  score = (len(y_test) - errors)/len(y_test)\n",
        "  perf.append(score)"
      ],
      "metadata": {
        "id": "wsFXgsG0tEhN"
      },
      "execution_count": 29,
      "outputs": []
    },
    {
      "cell_type": "code",
      "source": [
        "#Calculamos la suma de los resultados del rendimiento y lo dividimos por su longitud para calcular el promedio\n",
        "total_score = sum(perf)/len(perf)\n",
        "print(total_score)"
      ],
      "metadata": {
        "id": "ULx68qOMwc14",
        "colab": {
          "base_uri": "https://localhost:8080/"
        },
        "outputId": "84e7dfc7-b6f7-42a9-ef7a-0db1dac77daa"
      },
      "execution_count": 31,
      "outputs": [
        {
          "output_type": "stream",
          "name": "stdout",
          "text": [
            "0.9889212827988336\n"
          ]
        }
      ]
    },
    {
      "cell_type": "markdown",
      "source": [
        "Debido a que obtenemos un promedio de rendimiento mayor al 98% tenemos garantía de generalización."
      ],
      "metadata": {
        "id": "WM5kH4HE9a_H"
      }
    },
    {
      "cell_type": "markdown",
      "source": [
        "# Occupancy Detection Dataset"
      ],
      "metadata": {
        "id": "RORrO5ylzljX"
      }
    },
    {
      "cell_type": "markdown",
      "source": [
        "**1)** El dataset contiene datos de distintos sensores en una habitación. El problema que se busca resolver es un problema de clasificación binario cuyo propósito es determinar si una habitación está o no ocupada. \n",
        "\n",
        "**2)** Como se menciona en el repositorio, las features del dataset son las siguientes:\n",
        "\n",
        "* Date time: La fecha y la hora de la toma de medida.\n",
        "* Temperature: En Celcius.\n",
        "* Relative Humidity: Porcentaje de humedad relativa.\n",
        "* Light: Nivel de luz en lux.\n",
        "* CO2: Nivel de CO2 en partes por millón (ppm).\n",
        "* Humidity Ratio: Radio de la masa de vapor de agua presente en el aire a la masa de aire seco.\n",
        "\n",
        "Las etiquetas del dataset están dadas por el dato de Occupancy, donde se toma la variable binaria, 0 si la habiración está ocupada y 1 si no lo está.\n",
        "\n",
        "**3) a)** Para ver que el dataset es linealmente separable usaremos el algoritmo de perceptrón de la misma forma que para el anterior dataset.\n",
        "\n",
        "\n"
      ],
      "metadata": {
        "id": "ljtqUnZ9SJ3H"
      }
    },
    {
      "cell_type": "code",
      "source": [
        "#Inicialmente cargamos el dataset\n",
        "#Para descargar el archivo tipo Zip hay que hacemos el siguiente procedimiento\n",
        "import urllib\n",
        "import zipfile\n",
        "\n",
        "# Descargamos y descomprimos los datos\n",
        "url = \"https://archive.ics.uci.edu/ml/machine-learning-databases/00357/occupancy_data.zip\"\n",
        "extract_dir = \"occupancy\"\n",
        "\n",
        "#Descargamos el archivo desde la URL especificada\n",
        "zip_path, _ = urllib.request.urlretrieve(url)\n",
        "#Descomprimimos el archivo y descargamos los datos\n",
        "with zipfile.ZipFile(zip_path, \"r\") as f:\n",
        "    f.extractall(extract_dir)"
      ],
      "metadata": {
        "id": "zR1F6FnqikKp"
      },
      "execution_count": 13,
      "outputs": []
    },
    {
      "cell_type": "code",
      "source": [
        "# El dataset coniene dos conjuntos de datos para entrenar y probar el modelo\n",
        "# Creamos distintos dataframes\n",
        "\n",
        "def occupancy_df_process(path):\n",
        "  data = pd.read_csv(path, sep=\",\", \n",
        "            names=[\"columna\",\"date\",\"Temperature\",\"Humidity\",\n",
        "                   \"Light\",\"CO2\",\"HumidityRatio\",\"Occupancy\"])[1:]\n",
        "                   \n",
        "  #El número de columna de los datos es irrelevante por lo tanto no lo consideramos\n",
        "  data = data.drop([\"columna\"],axis=1)\n",
        "\n",
        "  data['date'] = data['date'].apply(lambda x: pd.to_datetime(x).to_julian_date())\n",
        "  data[\"Light\"] = data[\"Light\"].astype(float)\n",
        "  data[\"Temperature\"] = data[\"Temperature\"].astype(float)\n",
        "  data[\"Humidity\"] = data[\"Humidity\"].astype(float)\n",
        "  data[\"CO2\"] = data[\"CO2\"].astype(float)\n",
        "  data[\"HumidityRatio\"] = data[\"HumidityRatio\"].astype(float)\n",
        "  data[\"Occupancy\"] = data[\"Occupancy\"].astype(float)\n",
        "  data[\"Occupancy\"] = data[\"Occupancy\"].replace([0],-1)\n",
        "\n",
        "  # Features\n",
        "  X_data = data[[\"Temperature\",\"Humidity\",\n",
        "                   \"Light\",\"CO2\",\"HumidityRatio\"]]\n",
        "  # Labels\n",
        "  Y_data = data[\"Occupancy\"]\n",
        "  return X_data, Y_data\n",
        "\n",
        "occupancy_train_X , occupancy_train_y = occupancy_df_process(\"occupancy/datatraining.txt\")\n",
        "occupancy_test_X , occupancy_test_y = occupancy_df_process(\"occupancy/datatest.txt\")\n",
        "occupancy_test2_X , occupancy_test2_y = occupancy_df_process(\"occupancy/datatest2.txt\")"
      ],
      "metadata": {
        "id": "ExrhvY7tj-kF"
      },
      "execution_count": 14,
      "outputs": []
    },
    {
      "cell_type": "code",
      "source": [
        "# Test del percetron usando el código implementado en la sección del Banknote dataset\n",
        "perceptron_test(occupancy_train_X, occupancy_train_y )"
      ],
      "metadata": {
        "colab": {
          "base_uri": "https://localhost:8080/"
        },
        "id": "xhkF-9gyi4tM",
        "outputId": "4b018101-a6ae-478b-dac7-435bda64d049"
      },
      "execution_count": 32,
      "outputs": [
        {
          "output_type": "stream",
          "name": "stdout",
          "text": [
            "0.9815792705391133\n"
          ]
        }
      ]
    },
    {
      "cell_type": "markdown",
      "source": [
        "Esto nos indica que el dataset es linealmente separable.\n",
        "\n",
        "\n",
        "\n",
        "**3) b)** A partir de la información suministrada por la documentación del dataset no es posible determinar si los datos han sido escogidos de manera aleatoria.\n",
        "\n",
        "**c)** La cantidad de datos necesarios para determinar si un conjunto de datos es suficiente depende directamente de la complejidad del problema, en este caso, teniendo en cuenta que al entrenar el dataset obtenemos niveles altos de precisión podríamos decir que se cuenta con un número adecuado de muestras.\n",
        "\n",
        "\n",
        "**4)** Usaremos el mismo código explicado en la sección del Banknote authentication dataset.\n",
        "\n",
        "**5)** A continuación implementamos el SVM para el dataset que estamos trabajando."
      ],
      "metadata": {
        "id": "7eqAFS91Viyf"
      }
    },
    {
      "cell_type": "code",
      "source": [
        "#Tendremos en cuenta los datos de entrenamiento y de prueba del Occupancy detection dataset\n",
        "OSVM = SVM()\n",
        "\n",
        "# El dataset ya cuenta con la separación entre los datos de entrenamiento y de prueba\n",
        "\n",
        "#Entrenamos la SVM con los datos de entrenamiento\n",
        "OSVM.fit(occupancy_train_X.to_numpy(), occupancy_train_y.to_numpy())\n",
        "\n",
        "#Es necesario evaluar el rendimiento con los datos de prueba\n",
        "predicted_data = OSVM.predict(occupancy_test_X.to_numpy())\n",
        "\n",
        "errors = len([i for i in (predicted_data - occupancy_test_y) if i != 0]) \n",
        "score = (len(occupancy_test_y) - errors)/len(occupancy_test_y)\n",
        "print(score)"
      ],
      "metadata": {
        "id": "nr_tg4EI0Rfx",
        "colab": {
          "base_uri": "https://localhost:8080/"
        },
        "outputId": "3d78d3ce-8308-4235-ab3d-08760688ed34"
      },
      "execution_count": 33,
      "outputs": [
        {
          "output_type": "stream",
          "name": "stdout",
          "text": [
            "0.9793621013133208\n"
          ]
        }
      ]
    },
    {
      "cell_type": "markdown",
      "source": [
        "Como se observa, la implementación del SVM nos brinda una precisión mayor al 97% lo cual nos indica que el método está funcionando apropiadamente.\n",
        " \n",
        " **6)** Para entrenar la SVM anteriormente dividimos el dataset en dos subconjuntos de datos, uno de training (80%) y otro de testing (20%), sin embargo, para garantizar generalización es necesario tener tres conjuntos de datos, de entrenamiento, de validación y de prueba. No obstante, debido a que los datasets con los cuales estamos trabajando tienen un conjunto de datos reducido, realizaremos crossvalidation para observar la generalización del modelo."
      ],
      "metadata": {
        "id": "HrhYHY8pW7Gw"
      }
    },
    {
      "cell_type": "code",
      "source": [
        "#Dataset a usar\n",
        "#occupancy_train_X , occupancy_train_y \n",
        "#occupancy_test_X , occupancy_test_y \n",
        "\n",
        "#Nuevos datos\n",
        "ocuppancy_X = occupancy_train_X.append(occupancy_test_X)\n",
        "occupancy_y = occupancy_train_y.append(occupancy_test_y)"
      ],
      "metadata": {
        "id": "onC2eWpxSwKv",
        "colab": {
          "base_uri": "https://localhost:8080/"
        },
        "outputId": "15c3e94e-0ad1-4d8c-9dbc-908ce28cb12d"
      },
      "execution_count": 17,
      "outputs": [
        {
          "output_type": "stream",
          "name": "stderr",
          "text": [
            "<ipython-input-17-08aff32485d4>:6: FutureWarning: The frame.append method is deprecated and will be removed from pandas in a future version. Use pandas.concat instead.\n",
            "  ocuppancy_X = occupancy_train_X.append(occupancy_test_X)\n",
            "<ipython-input-17-08aff32485d4>:7: FutureWarning: The series.append method is deprecated and will be removed from pandas in a future version. Use pandas.concat instead.\n",
            "  occupancy_y = occupancy_train_y.append(occupancy_test_y)\n"
          ]
        }
      ]
    },
    {
      "cell_type": "code",
      "source": [
        "for _ in range(0,10):\n",
        "  # Separamos los datos\n",
        "  X_train, X_test,y_train, y_test = train_test_split(ocuppancy_X, occupancy_y,\n",
        "                                    random_state=104, \n",
        "                                    test_size=0.25, \n",
        "                                    shuffle=True)\n",
        "\n",
        "  # Creamos la SVM \n",
        "  Occupancy_SVM = SVM()\n",
        "  #Entrenamos la SVM\n",
        "  Occupancy_SVM.fit(X_train.to_numpy(), y_train.to_numpy())\n",
        "\n",
        "  #Ahora evaluamos el rendimiento\n",
        "  predicted_data = Occupancy_SVM.predict(X_test.to_numpy())\n",
        "\n",
        "  errors = len([i for i in (predicted_data -  y_test) if i != 0]) \n",
        "  score = (len(y_test) - errors)/len(y_test)\n",
        "  perf.append(score)"
      ],
      "metadata": {
        "id": "OfwqU_ofIQys"
      },
      "execution_count": 34,
      "outputs": []
    },
    {
      "cell_type": "code",
      "source": [
        "total_score = sum(perf)/len(perf)\n",
        "print(total_score)"
      ],
      "metadata": {
        "colab": {
          "base_uri": "https://localhost:8080/"
        },
        "id": "ksTEp82WVopR",
        "outputId": "f4bdb753-a23a-45c6-c78b-f11258a294ed"
      },
      "execution_count": 36,
      "outputs": [
        {
          "output_type": "stream",
          "name": "stdout",
          "text": [
            "0.9588943941751384\n"
          ]
        }
      ]
    },
    {
      "cell_type": "markdown",
      "source": [
        "Como obtenemos un resultado mayor al 95%, se evidencia que el modelo generaliza."
      ],
      "metadata": {
        "id": "2Te6WngNKYKk"
      }
    }
  ]
}